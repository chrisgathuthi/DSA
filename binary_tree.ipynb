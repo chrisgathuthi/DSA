{
 "cells": [
  {
   "cell_type": "markdown",
   "metadata": {},
   "source": [
    "QUESTION 2: Implement a binary tree using Python, and show its usage with some examples."
   ]
  },
  {
   "cell_type": "code",
   "execution_count": 3,
   "metadata": {},
   "outputs": [],
   "source": [
    "class TreeNode:\n",
    "    def __init__(self, key) -> None:\n",
    "        self.key = key\n",
    "        self.right = None\n",
    "        self.left = None\n",
    "    \n",
    "    def inorder_travers(self):\n",
    "        if self is None:\n",
    "            self = []\n",
    "        return \n",
    "\n",
    "        "
   ]
  },
  {
   "cell_type": "code",
   "execution_count": 23,
   "metadata": {},
   "outputs": [
    {
     "name": "stdout",
     "output_type": "stream",
     "text": [
      "{'key': 5, 'right': None, 'left': None}\n",
      "<class '__main__.TreeNode'>\n"
     ]
    }
   ],
   "source": [
    "\n",
    "node0 = TreeNode(4)\n",
    "node1 = TreeNode(5)\n",
    "node2 = TreeNode(5)\n",
    "node3 = TreeNode(1)\n",
    "node4 = TreeNode(3)\n",
    "node5 = TreeNode(7)\n",
    "node6 = TreeNode(6)\n",
    "node7 = TreeNode(6)\n",
    "node8 = TreeNode(8)\n",
    "#think of nodes like molecules that are connected to each other\n",
    "node0.left = node1\n",
    "node0.right = node2\n",
    "node1.left = node3\n",
    "node1.right = node4\n",
    "\n",
    "root = node0\n",
    "print(root.right.__dict__)\n",
    "print(type(root))\n",
    "\n",
    "# a root node\n",
    "\n"
   ]
  },
  {
   "cell_type": "code",
   "execution_count": 25,
   "metadata": {},
   "outputs": [
    {
     "ename": "TypeError",
     "evalue": "unsupported operand type(s) for +: 'int' and 'list'",
     "output_type": "error",
     "traceback": [
      "\u001b[1;31m---------------------------------------------------------------------------\u001b[0m",
      "\u001b[1;31mTypeError\u001b[0m                                 Traceback (most recent call last)",
      "\u001b[1;32m<ipython-input-25-b974c7a0e849>\u001b[0m in \u001b[0;36m<module>\u001b[1;34m\u001b[0m\n\u001b[1;32m----> 1\u001b[1;33m \u001b[1;36m1\u001b[0m\u001b[1;33m,\u001b[0m\u001b[1;36m3\u001b[0m\u001b[1;33m,\u001b[0m\u001b[1;36m4\u001b[0m\u001b[1;33m,\u001b[0m\u001b[1;36m5\u001b[0m \u001b[1;33m+\u001b[0m \u001b[1;33m[\u001b[0m\u001b[1;34m'hello'\u001b[0m\u001b[1;33m]\u001b[0m \u001b[1;33m+\u001b[0m \u001b[1;36m6\u001b[0m\u001b[1;33m,\u001b[0m\u001b[1;36m3\u001b[0m\u001b[1;33m\u001b[0m\u001b[1;33m\u001b[0m\u001b[0m\n\u001b[0m",
      "\u001b[1;31mTypeError\u001b[0m: unsupported operand type(s) for +: 'int' and 'list'"
     ]
    }
   ],
   "source": [
    "1,3,4,5 + ['hello'] + 6,3"
   ]
  },
  {
   "cell_type": "code",
   "execution_count": 5,
   "metadata": {},
   "outputs": [],
   "source": [
    "tree_tuple = ((1,3,None), 2, ((None, 3, 4), 5, (6, 7, 8)))"
   ]
  },
  {
   "cell_type": "code",
   "execution_count": 12,
   "metadata": {},
   "outputs": [],
   "source": [
    "def parse_tuple(data):\n",
    "    print(data)\n",
    "    if isinstance(data, tuple) and len(data) == 3:\n",
    "        node = TreeNode(data[1])\n",
    "        node.left = parse_tuple(data[0])\n",
    "        node.right = parse_tuple(data[2])\n",
    "    elif data is None:\n",
    "        node = None\n",
    "    else:\n",
    "        node = TreeNode(data)\n",
    "    return node"
   ]
  },
  {
   "cell_type": "code",
   "execution_count": 29,
   "metadata": {},
   "outputs": [
    {
     "name": "stdout",
     "output_type": "stream",
     "text": [
      "((1, 3, None), 2, ((None, 3, 4), 5, (6, 7, 8)))\n",
      "(1, 3, None)\n",
      "1\n",
      "None\n",
      "((None, 3, 4), 5, (6, 7, 8))\n",
      "(None, 3, 4)\n",
      "None\n",
      "4\n",
      "(6, 7, 8)\n",
      "6\n",
      "8\n",
      "<__main__.TreeNode object at 0x00000182E005F160>\n"
     ]
    }
   ],
   "source": [
    "tree2 = parse_tuple(((1,3,None), 2, ((None, 3, 4), 5, (6, 7, 8))))"
   ]
  },
  {
   "attachments": {},
   "cell_type": "markdown",
   "metadata": {},
   "source": [
    "1. Traversing the tree"
   ]
  },
  {
   "cell_type": "code",
   "execution_count": 28,
   "metadata": {},
   "outputs": [
    {
     "name": "stdout",
     "output_type": "stream",
     "text": [
      "((1, 3, None), 2, ((None, 3, 4), 5, (6, 7, 8)))\n"
     ]
    },
    {
     "data": {
      "text/plain": [
       "[1, 3, 2, 3, 4, 5, 6, 7, 8]"
      ]
     },
     "execution_count": 28,
     "metadata": {},
     "output_type": "execute_result"
    }
   ],
   "source": [
    "# inorder traversing, the left nodes first, then the root then the right node\n",
    "def inorder_traversal(tree):\n",
    "    if tree is None:\n",
    "        return []\n",
    "    return inorder_traversal(tree.left) + [tree.key] + inorder_traversal(tree.right)\n",
    "print(tree_tuple)\n",
    "inorder_traversal(tree2)"
   ]
  }
 ],
 "metadata": {
  "kernelspec": {
   "display_name": "Python 3",
   "language": "python",
   "name": "python3"
  },
  "language_info": {
   "codemirror_mode": {
    "name": "ipython",
    "version": 3
   },
   "file_extension": ".py",
   "mimetype": "text/x-python",
   "name": "python",
   "nbconvert_exporter": "python",
   "pygments_lexer": "ipython3",
   "version": "3.9.1"
  },
  "orig_nbformat": 4
 },
 "nbformat": 4,
 "nbformat_minor": 2
}
