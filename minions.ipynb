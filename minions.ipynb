{
 "cells": [
  {
   "cell_type": "code",
   "execution_count": null,
   "metadata": {},
   "outputs": [],
   "source": [
    "tests = {\n",
    "    \"input\":\"code\",\n",
    "    \"output\":\"\"\n",
    "}\n",
    "test_cases = []"
   ]
  },
  {
   "cell_type": "code",
   "execution_count": null,
   "metadata": {},
   "outputs": [],
   "source": []
  },
  {
   "cell_type": "code",
   "execution_count": 4,
   "metadata": {},
   "outputs": [
    {
     "name": "stdout",
     "output_type": "stream",
     "text": [
      "7\n"
     ]
    }
   ],
   "source": [
    "# brute force\n",
    "y = \"christopher gathuthi muriuki is a great person\"\n",
    "x = y.split()\n",
    "print(len(x))\n"
   ]
  },
  {
   "cell_type": "code",
   "execution_count": 23,
   "metadata": {},
   "outputs": [],
   "source": [
    "def braille(words):\n",
    "    array = words.split()\n",
    "    spaces = len(words) -1\n",
    "    matrix = {\"row\":[]}\n",
    "    \n",
    "    count = \"\"\n",
    "\n",
    "    for word in words:\n",
    "        word = ord(word)\n",
    "        word = bin(word)[2:]\n",
    "        # updating the array\n",
    "        matrix[\"row\"].append(word)\n",
    "    for x in matrix[\"row\"]:\n",
    "        count += x\n",
    "    return count\n",
    "    \n"
   ]
  },
  {
   "cell_type": "code",
   "execution_count": 70,
   "metadata": {},
   "outputs": [],
   "source": [
    "braille_lookup = {\n",
    "    'a': '100000',\n",
    "    'b': '110000',\n",
    "    'c': '100100',\n",
    "    'd': '100110',\n",
    "    'e': '100010',\n",
    "    'f': '110100',\n",
    "    'g': '110110',\n",
    "    'h': '110010',\n",
    "    'i': '010100',\n",
    "    'j': '010110',\n",
    "    'k': '101000',\n",
    "    'l': '111000',\n",
    "    'm': '101100',\n",
    "    'n': '101110',\n",
    "    'o': '101010',\n",
    "    'p': '111100',\n",
    "    'q': '111110',\n",
    "    'r': '111010',\n",
    "    's': '011100',\n",
    "    't': '011110',\n",
    "    'u': '101001',\n",
    "    'v': '111001',\n",
    "    'w': '010111',\n",
    "    'x': '101101',\n",
    "    'y': '101111',\n",
    "    'z': '101011',\n",
    "    ' ': '000000',\n",
    "    'A': '000001100000',\n",
    "    'B': '000001110000',\n",
    "    'C': '000001100100',\n",
    "    'D': '000001100110',\n",
    "    'E': '000001100010',\n",
    "    'F': '000001110100',\n",
    "    'G': '000001110110',\n",
    "    'H': '000001110010',\n",
    "    'I': '000001010100',\n",
    "    'J': '000001010110',\n",
    "    'K': '000001101000',\n",
    "    'L': '000001111000',\n",
    "    'M': '000001101100',\n",
    "    'N': '000001101110',\n",
    "    'O': '000001101010',\n",
    "    'P': '000001111100',\n",
    "    'Q': '000001111110',\n",
    "    'R': '000001111010',\n",
    "    'S': '000001011100',\n",
    "    'T': '000001011110',\n",
    "    'U': '000001101001',\n",
    "    'V': '000001111001',\n",
    "    'W': '000001010111',\n",
    "    'X': '000001101101',\n",
    "    'Y': '000001101111',\n",
    "    'Z': '000001101011'\n",
    "}\n"
   ]
  },
  {
   "cell_type": "code",
   "execution_count": 71,
   "metadata": {},
   "outputs": [],
   "source": [
    "def solution(words):\n",
    "    counter = \"\"\n",
    "    for word in words:\n",
    "        if word == \"\":\n",
    "            counter += \"000000\"\n",
    "            continue\n",
    "        counter += braille_lookup[word]\n",
    "    return counter\n",
    "        "
   ]
  },
  {
   "cell_type": "code",
   "execution_count": 74,
   "metadata": {},
   "outputs": [
    {
     "data": {
      "text/plain": [
       "'000001011110110010100010000000111000100000101011101111000000110100101010101101000000010110101001101100111100100010100110000000101010111001100010111010000000100000000000111000100000101011101111000000011100110010010100111100'"
      ]
     },
     "execution_count": 74,
     "metadata": {},
     "output_type": "execute_result"
    }
   ],
   "source": [
    "solution(\"The lazy fox jumped over a lazy ship\")"
   ]
  }
 ],
 "metadata": {
  "kernelspec": {
   "display_name": "Python 3",
   "language": "python",
   "name": "python3"
  },
  "language_info": {
   "codemirror_mode": {
    "name": "ipython",
    "version": 3
   },
   "file_extension": ".py",
   "mimetype": "text/x-python",
   "name": "python",
   "nbconvert_exporter": "python",
   "pygments_lexer": "ipython3",
   "version": "3.9.1"
  },
  "orig_nbformat": 4
 },
 "nbformat": 4,
 "nbformat_minor": 2
}
